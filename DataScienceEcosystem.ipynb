{
 "cells": [
  {
   "cell_type": "markdown",
   "id": "72b564e4-e16f-44a7-abde-947352cf69d1",
   "metadata": {
    "tags": []
   },
   "source": [
    "# Data Science Tools and Ecosystem "
   ]
  },
  {
   "cell_type": "markdown",
   "id": "d6438572-1cf9-4892-9d3b-62e778dd3c94",
   "metadata": {},
   "source": [
    "#### In this notebook, Data Science Tools and Ecosystem are summarized."
   ]
  },
  {
   "cell_type": "markdown",
   "id": "a930282a-a147-420a-8beb-1f1c0e2835d6",
   "metadata": {},
   "source": [
    "__Objectives:__"
   ]
  },
  {
   "cell_type": "markdown",
   "id": "2767717b-35d6-4c05-b716-45f86ead0ba4",
   "metadata": {},
   "source": [
    "- List popular languages for Data Science\n",
    "- List commonly used libraries used by Data Scientists\n",
    "- Create a table of Data Science tools\n",
    "- Create an arithmetic expression example"
   ]
  },
  {
   "cell_type": "markdown",
   "id": "adc1bbc6-7aa8-4497-8395-19607092b670",
   "metadata": {},
   "source": [
    "Some of the popular languages that Data Scientists use are:"
   ]
  },
  {
   "cell_type": "markdown",
   "id": "1ebaf8d7-f250-4844-b89f-aa87d70b4553",
   "metadata": {},
   "source": [
    "1. Python\n",
    "2. R\n",
    "3. Scala\n",
    "4. Julia"
   ]
  },
  {
   "cell_type": "markdown",
   "id": "bf01f7f2-af22-4500-a648-7578e8171f21",
   "metadata": {},
   "source": [
    "Some of the commonly used libraries used by Data Scientists include:"
   ]
  },
  {
   "cell_type": "markdown",
   "id": "bf538456-68f6-415e-bdf7-38a0e370c75b",
   "metadata": {},
   "source": [
    "1. TensorFlow\n",
    "2. NumPy\n",
    "3. SciPy\n",
    "4. Pandas"
   ]
  },
  {
   "cell_type": "markdown",
   "id": "9fae04ed-97fa-4fe8-bd0d-f6f0a7dc25c4",
   "metadata": {},
   "source": [
    "| Data Science Tools |\n",
    "| --- | \n",
    "| JupyterLab |\n",
    "| PyCharm | \n",
    "| VS Code |"
   ]
  },
  {
   "cell_type": "markdown",
   "id": "8566c74f-9c34-45e8-8f60-d32d221e2522",
   "metadata": {},
   "source": [
    "<h3>Below are a few examples of evaluating arithmetic expressions in Python<h3>"
   ]
  },
  {
   "cell_type": "markdown",
   "id": "7f80adad-5e4d-4635-af4e-90bea1fc0719",
   "metadata": {},
   "source": [
    "_This a simple arithmetic expression to multiply then add integers_"
   ]
  },
  {
   "cell_type": "code",
   "execution_count": 4,
   "id": "f01466e1-290e-411b-958d-516f164d95b6",
   "metadata": {},
   "outputs": [
    {
     "data": {
      "text/plain": [
       "17"
      ]
     },
     "execution_count": 4,
     "metadata": {},
     "output_type": "execute_result"
    }
   ],
   "source": [
    "(3*4)+5"
   ]
  },
  {
   "cell_type": "markdown",
   "id": "06052124-f0dc-4076-b119-08dcc904d0ce",
   "metadata": {},
   "source": [
    "_This will convert 200 minutes to hours by diving by 60_"
   ]
  },
  {
   "cell_type": "code",
   "execution_count": 5,
   "id": "af7dfdd1-1f6b-43ed-8665-7939e8b0557b",
   "metadata": {},
   "outputs": [
    {
     "name": "stdout",
     "output_type": "stream",
     "text": [
      "200 minutes are 3 hours\n"
     ]
    }
   ],
   "source": [
    "mins= int(200)\n",
    "hours = mins//60  \n",
    "print('200 minutes are', hours,'hours')"
   ]
  },
  {
   "cell_type": "markdown",
   "id": "57ecd9b1-6985-4892-aeeb-77281ce81ebf",
   "metadata": {
    "jp-MarkdownHeadingCollapsed": true,
    "tags": []
   },
   "source": [
    "<h2>Author<h2>"
   ]
  },
  {
   "cell_type": "markdown",
   "id": "e00e7ac3-1256-4dbf-8732-f533c80d478c",
   "metadata": {},
   "source": [
    "Alvaro"
   ]
  },
  {
   "cell_type": "code",
   "execution_count": null,
   "id": "fa05370c-8e36-4c5d-a2c2-ff03a5ac0422",
   "metadata": {},
   "outputs": [],
   "source": []
  }
 ],
 "metadata": {
  "kernelspec": {
   "display_name": "Python",
   "language": "python",
   "name": "conda-env-python-py"
  },
  "language_info": {
   "codemirror_mode": {
    "name": "ipython",
    "version": 3
   },
   "file_extension": ".py",
   "mimetype": "text/x-python",
   "name": "python",
   "nbconvert_exporter": "python",
   "pygments_lexer": "ipython3",
   "version": "3.7.12"
  }
 },
 "nbformat": 4,
 "nbformat_minor": 5
}
